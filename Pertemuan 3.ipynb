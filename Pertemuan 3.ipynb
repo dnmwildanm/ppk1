{
 "cells": [
  {
   "cell_type": "code",
   "execution_count": 2,
   "id": "5ceb9823-f423-49ce-a285-2e1cb2d81908",
   "metadata": {},
   "outputs": [],
   "source": [
    "# Algorithm 3.1"
   ]
  },
  {
   "cell_type": "code",
   "execution_count": 3,
   "id": "8fefdf65-e27b-4cf6-a312-acca97247346",
   "metadata": {},
   "outputs": [],
   "source": [
    "list1=[100,200,300,400]"
   ]
  },
  {
   "cell_type": "code",
   "execution_count": 4,
   "id": "3f139522-d328-4a12-a808-3bcf4ed2903a",
   "metadata": {},
   "outputs": [],
   "source": [
    "list2=[1,'Pemrograman Komputer',12000.00]"
   ]
  },
  {
   "cell_type": "code",
   "execution_count": 5,
   "id": "3a2a13a1-dd29-4d2c-9e72-801ebbc6f65e",
   "metadata": {},
   "outputs": [],
   "source": [
    "list=[10,8,12,6,15]"
   ]
  },
  {
   "cell_type": "code",
   "execution_count": 6,
   "id": "c317a7e4-7161-4936-8a28-ba54fd416f3f",
   "metadata": {},
   "outputs": [
    {
     "data": {
      "text/plain": [
       "[10, 8, 12, 6, 15]"
      ]
     },
     "execution_count": 6,
     "metadata": {},
     "output_type": "execute_result"
    }
   ],
   "source": [
    "list"
   ]
  },
  {
   "cell_type": "code",
   "execution_count": 7,
   "id": "1022e13e-b7e3-4849-9d80-19f5da0df695",
   "metadata": {},
   "outputs": [
    {
     "data": {
      "text/plain": [
       "5"
      ]
     },
     "execution_count": 7,
     "metadata": {},
     "output_type": "execute_result"
    }
   ],
   "source": [
    "len(list) #Menghitung banyaknya elemen didalam list"
   ]
  },
  {
   "cell_type": "code",
   "execution_count": 12,
   "id": "669240f2-719d-41bf-a979-ef62c9dc59f3",
   "metadata": {},
   "outputs": [],
   "source": [
    "li=[10,8,12,6,15]"
   ]
  },
  {
   "cell_type": "code",
   "execution_count": 13,
   "id": "71c1cd67-9548-41f6-9b1d-a1a01246e75b",
   "metadata": {},
   "outputs": [
    {
     "data": {
      "text/plain": [
       "(10, 8, 12, 6, 15)"
      ]
     },
     "execution_count": 13,
     "metadata": {},
     "output_type": "execute_result"
    }
   ],
   "source": [
    "li[0],li[1],li[2],li[3],li[4]"
   ]
  },
  {
   "cell_type": "code",
   "execution_count": 14,
   "id": "3481d75a-0456-4b7e-a4aa-4cd21dcf1e8d",
   "metadata": {},
   "outputs": [
    {
     "data": {
      "text/plain": [
       "(10, 8, 12, 6, 15)"
      ]
     },
     "execution_count": 14,
     "metadata": {},
     "output_type": "execute_result"
    }
   ],
   "source": [
    "li[-5],li[-4],li[-3],li[-2],li[-1]"
   ]
  },
  {
   "cell_type": "code",
   "execution_count": 15,
   "id": "243fdedb-bd0a-43cc-a300-b2405926f73d",
   "metadata": {},
   "outputs": [],
   "source": [
    "li.append(20) #menambahkan elemen dalam list"
   ]
  },
  {
   "cell_type": "code",
   "execution_count": 16,
   "id": "963c79f9-177f-44cf-8d05-8ff59d16e393",
   "metadata": {},
   "outputs": [],
   "source": [
    "li.append(25)"
   ]
  },
  {
   "cell_type": "code",
   "execution_count": 17,
   "id": "50f008e1-ebbe-44d9-b22a-f4403e14c5d8",
   "metadata": {},
   "outputs": [
    {
     "data": {
      "text/plain": [
       "[10, 8, 12, 6, 15, 20, 25]"
      ]
     },
     "execution_count": 17,
     "metadata": {},
     "output_type": "execute_result"
    }
   ],
   "source": [
    "li"
   ]
  },
  {
   "cell_type": "code",
   "execution_count": 18,
   "id": "364637b9-abbc-4d8f-a3a6-8fb004cd143a",
   "metadata": {},
   "outputs": [],
   "source": [
    "li.extend([100,200,300]) #Menambahkan list dalam sebuah list"
   ]
  },
  {
   "cell_type": "code",
   "execution_count": 19,
   "id": "66379445-98ff-4ff4-82d7-528ff954ee2c",
   "metadata": {},
   "outputs": [
    {
     "data": {
      "text/plain": [
       "[10, 8, 12, 6, 15, 20, 25, 100, 200, 300]"
      ]
     },
     "execution_count": 19,
     "metadata": {},
     "output_type": "execute_result"
    }
   ],
   "source": [
    "li"
   ]
  },
  {
   "cell_type": "code",
   "execution_count": 20,
   "id": "4c0e456f-66cd-4e17-9192-c1f5e30a08f2",
   "metadata": {},
   "outputs": [],
   "source": [
    "li[0]=99"
   ]
  },
  {
   "cell_type": "code",
   "execution_count": 21,
   "id": "601f0a76-1413-4f01-879a-2566ef6b3918",
   "metadata": {},
   "outputs": [],
   "source": [
    "li[1]=77"
   ]
  },
  {
   "cell_type": "code",
   "execution_count": 22,
   "id": "683000c1-9f20-408a-a72b-9dad9c4e0489",
   "metadata": {},
   "outputs": [
    {
     "data": {
      "text/plain": [
       "[99, 77, 12, 6, 15, 20, 25, 100, 200, 300]"
      ]
     },
     "execution_count": 22,
     "metadata": {},
     "output_type": "execute_result"
    }
   ],
   "source": [
    "li"
   ]
  },
  {
   "cell_type": "code",
   "execution_count": 23,
   "id": "8b8765b8-eedd-4cdb-866e-a01b04edd57d",
   "metadata": {},
   "outputs": [],
   "source": [
    "li.remove(99) #Menghapus elemen di dalam list"
   ]
  },
  {
   "cell_type": "code",
   "execution_count": 24,
   "id": "eccefd47-2a33-47fb-bff0-8d54bd18f01c",
   "metadata": {},
   "outputs": [],
   "source": [
    "li.remove(300)"
   ]
  },
  {
   "cell_type": "code",
   "execution_count": 25,
   "id": "b307e447-ab47-474c-a897-f815ec5d77c1",
   "metadata": {},
   "outputs": [],
   "source": [
    "li.remove(15)"
   ]
  },
  {
   "cell_type": "code",
   "execution_count": 26,
   "id": "e59ebc7e-9111-42f5-b35c-20a08d0994ce",
   "metadata": {},
   "outputs": [
    {
     "data": {
      "text/plain": [
       "[77, 12, 6, 20, 25, 100, 200]"
      ]
     },
     "execution_count": 26,
     "metadata": {},
     "output_type": "execute_result"
    }
   ],
   "source": [
    "li"
   ]
  },
  {
   "cell_type": "code",
   "execution_count": 27,
   "id": "2fd3de44-bdf9-429e-8c6b-38d4bd3c15e8",
   "metadata": {},
   "outputs": [],
   "source": [
    "li.clear() #Menghapus semua elemen di dalam list"
   ]
  },
  {
   "cell_type": "code",
   "execution_count": 28,
   "id": "f38690d7-e754-4751-90ed-e4c0f25ef7d4",
   "metadata": {},
   "outputs": [
    {
     "data": {
      "text/plain": [
       "[]"
      ]
     },
     "execution_count": 28,
     "metadata": {},
     "output_type": "execute_result"
    }
   ],
   "source": [
    "li"
   ]
  },
  {
   "cell_type": "code",
   "execution_count": null,
   "id": "51d9eb7e-7055-4718-9e07-d086ce427a9c",
   "metadata": {},
   "outputs": [],
   "source": []
  },
  {
   "cell_type": "code",
   "execution_count": null,
   "id": "0512f9d2-f5f1-455b-bf62-5fd475e72992",
   "metadata": {},
   "outputs": [],
   "source": []
  },
  {
   "cell_type": "code",
   "execution_count": 29,
   "id": "3582ed7f-98f7-40df-a943-8f0de409bd8a",
   "metadata": {},
   "outputs": [],
   "source": [
    "# Algorithm 3.2"
   ]
  },
  {
   "cell_type": "code",
   "execution_count": 31,
   "id": "75631caa-0b04-4c17-bb2f-213870d1be34",
   "metadata": {},
   "outputs": [],
   "source": [
    "na={'A':4,'B':3,'C':2,'D':1,'E':0}"
   ]
  },
  {
   "cell_type": "code",
   "execution_count": 32,
   "id": "3af58f06-aad9-4b37-8364-9d89899b82be",
   "metadata": {},
   "outputs": [
    {
     "data": {
      "text/plain": [
       "{'A': 4, 'B': 3, 'C': 2, 'D': 1, 'E': 0}"
      ]
     },
     "execution_count": 32,
     "metadata": {},
     "output_type": "execute_result"
    }
   ],
   "source": [
    "na"
   ]
  },
  {
   "cell_type": "code",
   "execution_count": 33,
   "id": "87f6fd00-150f-4b4f-bb71-de8fe4d151f6",
   "metadata": {},
   "outputs": [
    {
     "data": {
      "text/plain": [
       "dict_keys(['A', 'B', 'C', 'D', 'E'])"
      ]
     },
     "execution_count": 33,
     "metadata": {},
     "output_type": "execute_result"
    }
   ],
   "source": [
    "na.keys() #Menampilkan Kata Kunci(key) dalam Dictionary"
   ]
  },
  {
   "cell_type": "code",
   "execution_count": 34,
   "id": "792b47f4-2839-4b6e-bf03-5510a2a6e25b",
   "metadata": {},
   "outputs": [
    {
     "data": {
      "text/plain": [
       "dict_values([4, 3, 2, 1, 0])"
      ]
     },
     "execution_count": 34,
     "metadata": {},
     "output_type": "execute_result"
    }
   ],
   "source": [
    "na.values() #Menampilkan Kata Value dalam Dictionary"
   ]
  },
  {
   "cell_type": "code",
   "execution_count": 35,
   "id": "ba5f5621-c352-47b5-abf4-82a25efba91f",
   "metadata": {},
   "outputs": [
    {
     "data": {
      "text/plain": [
       "4"
      ]
     },
     "execution_count": 35,
     "metadata": {},
     "output_type": "execute_result"
    }
   ],
   "source": [
    "na['A']"
   ]
  },
  {
   "cell_type": "code",
   "execution_count": 36,
   "id": "af4a3e12-1ec8-4f01-9dbf-23efa8c8c6b6",
   "metadata": {},
   "outputs": [
    {
     "data": {
      "text/plain": [
       "3"
      ]
     },
     "execution_count": 36,
     "metadata": {},
     "output_type": "execute_result"
    }
   ],
   "source": [
    "na['B']"
   ]
  },
  {
   "cell_type": "code",
   "execution_count": 37,
   "id": "480296fd-6911-464f-9d22-98c1e2d48ee3",
   "metadata": {},
   "outputs": [
    {
     "data": {
      "text/plain": [
       "2"
      ]
     },
     "execution_count": 37,
     "metadata": {},
     "output_type": "execute_result"
    }
   ],
   "source": [
    "na['C']"
   ]
  },
  {
   "cell_type": "code",
   "execution_count": 38,
   "id": "3a5569c4-060c-4dde-89bf-5469673922fa",
   "metadata": {},
   "outputs": [],
   "source": [
    "kamus={'mouse':'tikus','cat':'kucing'}"
   ]
  },
  {
   "cell_type": "code",
   "execution_count": 39,
   "id": "1f8133ec-aff7-4ac0-a22c-71e9d338e871",
   "metadata": {},
   "outputs": [
    {
     "data": {
      "text/plain": [
       "'kucing'"
      ]
     },
     "execution_count": 39,
     "metadata": {},
     "output_type": "execute_result"
    }
   ],
   "source": [
    "kamus['cat']"
   ]
  },
  {
   "cell_type": "code",
   "execution_count": 40,
   "id": "823167ef-a0ed-4168-ab98-cc8e32789e42",
   "metadata": {},
   "outputs": [
    {
     "data": {
      "text/plain": [
       "dict_keys(['mouse', 'cat'])"
      ]
     },
     "execution_count": 40,
     "metadata": {},
     "output_type": "execute_result"
    }
   ],
   "source": [
    "kamus.keys()"
   ]
  },
  {
   "cell_type": "code",
   "execution_count": 41,
   "id": "c04da246-f984-4410-b491-44b3705aef5d",
   "metadata": {},
   "outputs": [
    {
     "data": {
      "text/plain": [
       "dict_values(['tikus', 'kucing'])"
      ]
     },
     "execution_count": 41,
     "metadata": {},
     "output_type": "execute_result"
    }
   ],
   "source": [
    "kamus.values()"
   ]
  },
  {
   "cell_type": "code",
   "execution_count": null,
   "id": "70247dfa-d4f1-439c-8882-adb39454ee58",
   "metadata": {},
   "outputs": [],
   "source": []
  },
  {
   "cell_type": "code",
   "execution_count": null,
   "id": "630ea3ca-fc97-4138-85d6-87266fadd364",
   "metadata": {},
   "outputs": [],
   "source": []
  },
  {
   "cell_type": "code",
   "execution_count": 42,
   "id": "f7cdb9a5-7fd7-4c4c-a3bd-69e9f2da321a",
   "metadata": {},
   "outputs": [],
   "source": [
    "# Algorithm 3.3"
   ]
  },
  {
   "cell_type": "code",
   "execution_count": 43,
   "id": "7f168311-28b9-422f-be4d-1ebca2ae34e3",
   "metadata": {},
   "outputs": [],
   "source": [
    "t=(10,20,30)"
   ]
  },
  {
   "cell_type": "code",
   "execution_count": 44,
   "id": "44062037-8d8a-4e07-890c-580d72e383da",
   "metadata": {},
   "outputs": [
    {
     "data": {
      "text/plain": [
       "10"
      ]
     },
     "execution_count": 44,
     "metadata": {},
     "output_type": "execute_result"
    }
   ],
   "source": [
    "t[0]"
   ]
  },
  {
   "cell_type": "code",
   "execution_count": 45,
   "id": "f0e56c2c-147d-45eb-b72c-3ce3ce300d8e",
   "metadata": {},
   "outputs": [
    {
     "data": {
      "text/plain": [
       "20"
      ]
     },
     "execution_count": 45,
     "metadata": {},
     "output_type": "execute_result"
    }
   ],
   "source": [
    "t[1]"
   ]
  },
  {
   "cell_type": "code",
   "execution_count": 46,
   "id": "f2e58bc6-3374-4a08-8509-b3071a4d3c50",
   "metadata": {},
   "outputs": [
    {
     "data": {
      "text/plain": [
       "30"
      ]
     },
     "execution_count": 46,
     "metadata": {},
     "output_type": "execute_result"
    }
   ],
   "source": [
    "t[2]"
   ]
  },
  {
   "cell_type": "code",
   "execution_count": 47,
   "id": "6adeaf8a-dbc2-47cd-b42c-21e2895921e6",
   "metadata": {},
   "outputs": [
    {
     "data": {
      "text/plain": [
       "(10, 20, 30)"
      ]
     },
     "execution_count": 47,
     "metadata": {},
     "output_type": "execute_result"
    }
   ],
   "source": [
    "t[-3],t[-2],t[-1]"
   ]
  },
  {
   "cell_type": "code",
   "execution_count": 48,
   "id": "1378bf99-2c7f-405a-802e-9471c5ad026b",
   "metadata": {},
   "outputs": [
    {
     "data": {
      "text/plain": [
       "3"
      ]
     },
     "execution_count": 48,
     "metadata": {},
     "output_type": "execute_result"
    }
   ],
   "source": [
    "len(t) #Menghitung banyaknya elemen di dalam Tuple"
   ]
  },
  {
   "cell_type": "code",
   "execution_count": null,
   "id": "c9ce9be5-7835-4924-a771-ccf3913d7994",
   "metadata": {},
   "outputs": [],
   "source": []
  },
  {
   "cell_type": "code",
   "execution_count": null,
   "id": "e00dad9f-342a-43d6-be1c-4def8d740d61",
   "metadata": {},
   "outputs": [],
   "source": []
  },
  {
   "cell_type": "code",
   "execution_count": 49,
   "id": "cf46f956-bd06-4fb8-9a60-b6307e3dc982",
   "metadata": {},
   "outputs": [],
   "source": [
    "# Algorithm 3.4"
   ]
  },
  {
   "cell_type": "code",
   "execution_count": 50,
   "id": "8147b9d1-a955-4b3f-a769-8e1b841507ff",
   "metadata": {},
   "outputs": [],
   "source": [
    "s=set([10,10,20,30,30,30])"
   ]
  },
  {
   "cell_type": "code",
   "execution_count": 51,
   "id": "2c6cf615-2ea9-4796-a1f2-1d5cb3249109",
   "metadata": {},
   "outputs": [
    {
     "data": {
      "text/plain": [
       "{10, 20, 30}"
      ]
     },
     "execution_count": 51,
     "metadata": {},
     "output_type": "execute_result"
    }
   ],
   "source": [
    "s"
   ]
  },
  {
   "cell_type": "code",
   "execution_count": 52,
   "id": "18aa105d-96f3-4d3b-aab2-743a59dde9b7",
   "metadata": {},
   "outputs": [
    {
     "data": {
      "text/plain": [
       "3"
      ]
     },
     "execution_count": 52,
     "metadata": {},
     "output_type": "execute_result"
    }
   ],
   "source": [
    "len(s)"
   ]
  },
  {
   "cell_type": "code",
   "execution_count": 53,
   "id": "40970024-546c-4bdb-ae6c-0d75a9f461c4",
   "metadata": {},
   "outputs": [],
   "source": [
    "s.add(60) #Menambahkan anggota himpunan(set)"
   ]
  },
  {
   "cell_type": "code",
   "execution_count": 54,
   "id": "bf52ff91-47d7-449a-9138-9ff26b5d8ce4",
   "metadata": {},
   "outputs": [
    {
     "data": {
      "text/plain": [
       "{10, 20, 30, 60}"
      ]
     },
     "execution_count": 54,
     "metadata": {},
     "output_type": "execute_result"
    }
   ],
   "source": [
    "s"
   ]
  },
  {
   "cell_type": "code",
   "execution_count": 55,
   "id": "d91d7593-eab2-4bb4-8707-f3b94f6b2cfc",
   "metadata": {},
   "outputs": [
    {
     "data": {
      "text/plain": [
       "4"
      ]
     },
     "execution_count": 55,
     "metadata": {},
     "output_type": "execute_result"
    }
   ],
   "source": [
    "len(s)"
   ]
  },
  {
   "cell_type": "code",
   "execution_count": null,
   "id": "1fee8c75-f09b-42c8-938f-c04dc7713fa7",
   "metadata": {},
   "outputs": [],
   "source": []
  }
 ],
 "metadata": {
  "kernelspec": {
   "display_name": "Python 3 (ipykernel)",
   "language": "python",
   "name": "python3"
  },
  "language_info": {
   "codemirror_mode": {
    "name": "ipython",
    "version": 3
   },
   "file_extension": ".py",
   "mimetype": "text/x-python",
   "name": "python",
   "nbconvert_exporter": "python",
   "pygments_lexer": "ipython3",
   "version": "3.9.7"
  }
 },
 "nbformat": 4,
 "nbformat_minor": 5
}
