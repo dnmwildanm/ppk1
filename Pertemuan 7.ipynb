{
 "cells": [
  {
   "cell_type": "code",
   "execution_count": 1,
   "id": "eafe2688-abfd-48fb-ada2-77d00a3bc22c",
   "metadata": {},
   "outputs": [
    {
     "name": "stdout",
     "output_type": "stream",
     "text": [
      "3.0 3 2.8284271247461903 2*sqrt(2)\n"
     ]
    }
   ],
   "source": [
    "import math as mt\n",
    "import sympy as sy\n",
    "a=mt.sqrt(9)\n",
    "b=sy.sqrt(9)\n",
    "c=mt.sqrt(8)\n",
    "d=sy.sqrt(8)\n",
    "print(a,b,c,d)"
   ]
  },
  {
   "cell_type": "code",
   "execution_count": 2,
   "id": "2aed5b89-6b89-48fc-ab45-f9042f563da4",
   "metadata": {},
   "outputs": [
    {
     "name": "stdout",
     "output_type": "stream",
     "text": [
      "8.000000000000002 8\n"
     ]
    }
   ],
   "source": [
    "e=c**2\n",
    "f=d**2\n",
    "print(e,f)"
   ]
  },
  {
   "cell_type": "code",
   "execution_count": 3,
   "id": "301063d0-9f8d-4123-8ca0-5a62821d2139",
   "metadata": {},
   "outputs": [
    {
     "name": "stdout",
     "output_type": "stream",
     "text": [
      "expr= x + 2*y\n",
      "p1= x*(x + 2*y)\n",
      "p2= x**2 + 2*x*y\n"
     ]
    }
   ],
   "source": [
    "from sympy import symbols, expand, factor\n",
    "x,y=symbols('x y')\n",
    "expr=x+2*y\n",
    "p1=x*expr\n",
    "p2=expand(p1)\n",
    "\n",
    "print('expr=',expr)\n",
    "print('p1=',p1)\n",
    "print('p2=',p2)"
   ]
  },
  {
   "cell_type": "code",
   "execution_count": 4,
   "id": "94141ce3-da51-4c0f-b486-6ff045d40e2d",
   "metadata": {},
   "outputs": [],
   "source": [
    "from sympy import *\n",
    "z,t,z,nu=symbols('x t z nu')\n",
    "init_printing(use_unicode=True)\n",
    "\n",
    "p1=sin(x)*exp(x)\n",
    "p2=diff(p1,x)\n",
    "p3=sin(x)*exp(x)+exp(x)*cos(x)\n",
    "p4=integrate(p3,x)\n",
    "p5=integrate(sin(x**2),(x,-oo,oo))"
   ]
  },
  {
   "cell_type": "code",
   "execution_count": 5,
   "id": "d152a9ee-5c37-4eaf-874e-c12bd59d34f7",
   "metadata": {},
   "outputs": [
    {
     "name": "stderr",
     "output_type": "stream",
     "text": [
      "Matplotlib is building the font cache; this may take a moment.\n",
      "C:\\Users\\10\\anaconda3\\lib\\site-packages\\IPython\\lib\\latextools.py:126: MatplotlibDeprecationWarning: \n",
      "The to_png function was deprecated in Matplotlib 3.4 and will be removed two minor releases later. Use mathtext.math_to_image instead.\n",
      "  mt.to_png(f, s, fontsize=12, dpi=dpi, color=color)\n",
      "C:\\Users\\10\\anaconda3\\lib\\site-packages\\IPython\\lib\\latextools.py:126: MatplotlibDeprecationWarning: \n",
      "The to_rgba function was deprecated in Matplotlib 3.4 and will be removed two minor releases later. Use mathtext.math_to_image instead.\n",
      "  mt.to_png(f, s, fontsize=12, dpi=dpi, color=color)\n",
      "C:\\Users\\10\\anaconda3\\lib\\site-packages\\IPython\\lib\\latextools.py:126: MatplotlibDeprecationWarning: \n",
      "The to_mask function was deprecated in Matplotlib 3.4 and will be removed two minor releases later. Use mathtext.math_to_image instead.\n",
      "  mt.to_png(f, s, fontsize=12, dpi=dpi, color=color)\n",
      "C:\\Users\\10\\anaconda3\\lib\\site-packages\\IPython\\lib\\latextools.py:126: MatplotlibDeprecationWarning: \n",
      "The MathtextBackendBitmap class was deprecated in Matplotlib 3.4 and will be removed two minor releases later. Use mathtext.math_to_image instead.\n",
      "  mt.to_png(f, s, fontsize=12, dpi=dpi, color=color)\n"
     ]
    },
    {
     "data": {
      "image/png": "[encoded data removed]",
      "text/latex": [
       "$\\displaystyle \\left( e^{x} \\sin{\\left(x \\right)}, \\  e^{x} \\sin{\\left(x \\right)} + e^{x} \\cos{\\left(x \\right)}\\right)$"
      ],
      "text/plain": [
       "⎛ x          x           x       ⎞\n",
       "⎝ℯ ⋅sin(x), ℯ ⋅sin(x) + ℯ ⋅cos(x)⎠"
      ]
     },
     "execution_count": 5,
     "metadata": {},
     "output_type": "execute_result"
    }
   ],
   "source": [
    "p1,p2"
   ]
  },
  {
   "cell_type": "code",
   "execution_count": 6,
   "id": "57b980d7-7ba3-4399-ba72-aa1f35df14f7",
   "metadata": {},
   "outputs": [
    {
     "data": {
      "image/png": "[encoded data removed]",
      "text/latex": [
       "$\\displaystyle \\left( e^{x} \\sin{\\left(x \\right)} + e^{x} \\cos{\\left(x \\right)}, \\  e^{x} \\sin{\\left(x \\right)}, \\  \\frac{\\sqrt{2} \\sqrt{\\pi}}{2}\\right)$"
      ],
      "text/plain": [
       "⎛ x           x          x         √2⋅√π⎞\n",
       "⎜ℯ ⋅sin(x) + ℯ ⋅cos(x), ℯ ⋅sin(x), ─────⎟\n",
       "⎝                                    2  ⎠"
      ]
     },
     "execution_count": 6,
     "metadata": {},
     "output_type": "execute_result"
    }
   ],
   "source": [
    "p3,p4,p5"
   ]
  },
  {
   "cell_type": "code",
   "execution_count": 7,
   "id": "ee5e8c78-d03d-4cfd-aa8b-53be8ffd06cd",
   "metadata": {},
   "outputs": [
    {
     "data": {
      "image/png": "[encoded data removed]",
      "text/latex": [
       "$\\displaystyle 1$"
      ],
      "text/plain": [
       "1"
      ]
     },
     "execution_count": 7,
     "metadata": {},
     "output_type": "execute_result"
    }
   ],
   "source": [
    "limit(sin(x)/x,x,0)"
   ]
  },
  {
   "cell_type": "code",
   "execution_count": 8,
   "id": "98143e59-d97a-42ae-8481-eb36364afb7a",
   "metadata": {},
   "outputs": [
    {
     "data": {
      "image/png": "[encoded data removed]",
      "text/latex": [
       "$\\displaystyle \\left[ - \\sqrt{2}, \\  \\sqrt{2}\\right]$"
      ],
      "text/plain": [
       "[-√2, √2]"
      ]
     },
     "execution_count": 8,
     "metadata": {},
     "output_type": "execute_result"
    }
   ],
   "source": [
    "solve(x**2-2,x)"
   ]
  },
  {
   "cell_type": "code",
   "execution_count": 9,
   "id": "66c4d64b-9510-4586-ab14-daccedf54444",
   "metadata": {},
   "outputs": [
    {
     "data": {
      "image/png": "[encoded data removed]",
      "text/latex": [
       "$\\displaystyle f{\\left(x \\right)} = C_{1} \\sin{\\left(3 x \\right)} + C_{2} \\cos{\\left(3 x \\right)}$"
      ],
      "text/plain": [
       "f(x) = C₁⋅sin(3⋅x) + C₂⋅cos(3⋅x)"
      ]
     },
     "execution_count": 9,
     "metadata": {},
     "output_type": "execute_result"
    }
   ],
   "source": [
    "f = Function('f')\n",
    "dsolve(Derivative(f(x), x, x) + 9*f(x), f(x))"
   ]
  },
  {
   "cell_type": "code",
   "execution_count": 10,
   "id": "3f537e95-919e-4eb6-a958-7109fa5b4004",
   "metadata": {},
   "outputs": [
    {
     "data": {
      "image/png": "[encoded data removed]",
      "text/latex": [
       "$\\displaystyle 1$"
      ],
      "text/plain": [
       "1"
      ]
     },
     "execution_count": 10,
     "metadata": {},
     "output_type": "execute_result"
    }
   ],
   "source": [
    "simplify(sin(x)**2+cos(x)**2)"
   ]
  },
  {
   "cell_type": "code",
   "execution_count": null,
   "id": "f159e1bd-d2cf-41ff-b05c-1ec83da59aae",
   "metadata": {},
   "outputs": [],
   "source": []
  }
 ],
 "metadata": {
  "kernelspec": {
   "display_name": "Python 3 (ipykernel)",
   "language": "python",
   "name": "python3"
  },
  "language_info": {
   "codemirror_mode": {
    "name": "ipython",
    "version": 3
   },
   "file_extension": ".py",
   "mimetype": "text/x-python",
   "name": "python",
   "nbconvert_exporter": "python",
   "pygments_lexer": "ipython3",
   "version": "3.9.7"
  }
 },
 "nbformat": 4,
 "nbformat_minor": 5
}
