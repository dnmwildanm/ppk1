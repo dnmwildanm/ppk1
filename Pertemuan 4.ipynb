{
 "cells": [
  {
   "cell_type": "code",
   "execution_count": 1,
   "id": "061ca86e-d8c9-45a9-95f2-472873c0e0e4",
   "metadata": {},
   "outputs": [],
   "source": [
    "# Algorithm 4.1"
   ]
  },
  {
   "cell_type": "code",
   "execution_count": 2,
   "id": "7baf1c0c-470c-4110-a922-d05af33d4689",
   "metadata": {},
   "outputs": [],
   "source": [
    "def kali(a,b):\n",
    "            c=a*b\n",
    "            return c # mengembalikan nilai ke baris pemanggil"
   ]
  },
  {
   "cell_type": "code",
   "execution_count": 4,
   "id": "ab794371-98ef-4084-bc8a-834dcbf5c2e3",
   "metadata": {},
   "outputs": [],
   "source": [
    "def tulis(s):\n",
    "            print(s)"
   ]
  },
  {
   "cell_type": "code",
   "execution_count": 5,
   "id": "659d07fe-2adb-4884-9859-7e58a1497be2",
   "metadata": {},
   "outputs": [],
   "source": [
    "z=kali(10,5)"
   ]
  },
  {
   "cell_type": "code",
   "execution_count": 6,
   "id": "74a4844a-f64c-44b0-9ba1-2f08006568be",
   "metadata": {},
   "outputs": [
    {
     "data": {
      "text/plain": [
       "50"
      ]
     },
     "execution_count": 6,
     "metadata": {},
     "output_type": "execute_result"
    }
   ],
   "source": [
    "z"
   ]
  },
  {
   "cell_type": "code",
   "execution_count": 7,
   "id": "b188394e-f47e-4f6c-98a4-fdb3b0077c9b",
   "metadata": {},
   "outputs": [
    {
     "name": "stdout",
     "output_type": "stream",
     "text": [
      "Pemrograman komputer I dengan Python\n"
     ]
    }
   ],
   "source": [
    "tulis('Pemrograman komputer I dengan Python')"
   ]
  },
  {
   "cell_type": "code",
   "execution_count": 8,
   "id": "7be40f6a-d1b7-452c-9bc6-5952b3a051d8",
   "metadata": {},
   "outputs": [
    {
     "name": "stdout",
     "output_type": "stream",
     "text": [
      "50\n"
     ]
    }
   ],
   "source": [
    "tulis(z)"
   ]
  },
  {
   "cell_type": "code",
   "execution_count": null,
   "id": "87d596f2-08ed-4296-a7cb-0826902c603d",
   "metadata": {},
   "outputs": [],
   "source": []
  },
  {
   "cell_type": "code",
   "execution_count": null,
   "id": "c5f4afef-423b-4a12-ba4c-5a7f174b9efa",
   "metadata": {},
   "outputs": [],
   "source": []
  },
  {
   "cell_type": "code",
   "execution_count": 9,
   "id": "b5751b35-7e5a-4481-9f7b-f16df1e78890",
   "metadata": {},
   "outputs": [],
   "source": [
    "# Algorithm 4.2"
   ]
  },
  {
   "cell_type": "code",
   "execution_count": 10,
   "id": "f4a626ec-e9d4-4527-a909-953ec5e1a119",
   "metadata": {},
   "outputs": [],
   "source": [
    "def presentase(a,b,c):\n",
    "                def hitungPersen(x):\n",
    "                        total=a+b+c\n",
    "                        return(x*100.0)/total\n",
    "                print(\"Presentase: %f\\t%f\\t%f\" %\n",
    "                (hitungPersen(a),hitungPersen(b),hitungPersen(c)))"
   ]
  },
  {
   "cell_type": "code",
   "execution_count": 11,
   "id": "21865f6e-a4db-42c4-8a15-df0fc08b131e",
   "metadata": {},
   "outputs": [
    {
     "name": "stdout",
     "output_type": "stream",
     "text": [
      "Presentase: 33.333333\t33.333333\t33.333333\n"
     ]
    }
   ],
   "source": [
    "presentase(50,50,50)"
   ]
  },
  {
   "cell_type": "code",
   "execution_count": 12,
   "id": "85e6f18b-f349-4509-805c-9fd69d85a168",
   "metadata": {},
   "outputs": [
    {
     "name": "stdout",
     "output_type": "stream",
     "text": [
      "Presentase: 20.000000\t60.000000\t20.000000\n"
     ]
    }
   ],
   "source": [
    "presentase(30,90,30)"
   ]
  },
  {
   "cell_type": "code",
   "execution_count": null,
   "id": "24cb1b5c-87eb-4ac6-9139-51c83ab16eea",
   "metadata": {},
   "outputs": [],
   "source": []
  },
  {
   "cell_type": "code",
   "execution_count": null,
   "id": "e672e1f3-9800-4376-ae68-a54ce4b8ea30",
   "metadata": {},
   "outputs": [],
   "source": []
  },
  {
   "cell_type": "code",
   "execution_count": 13,
   "id": "61025ae9-c4db-4c8b-a875-01877d0b9373",
   "metadata": {},
   "outputs": [],
   "source": [
    "# Algorithm 4.3"
   ]
  },
  {
   "cell_type": "code",
   "execution_count": 14,
   "id": "739d7430-12e2-4197-a885-9f220fc15706",
   "metadata": {},
   "outputs": [],
   "source": [
    "maks = lambda a,b: a if a>b else b"
   ]
  },
  {
   "cell_type": "code",
   "execution_count": 15,
   "id": "15519924-266e-4346-b7a3-82658106667c",
   "metadata": {},
   "outputs": [
    {
     "data": {
      "text/plain": [
       "20"
      ]
     },
     "execution_count": 15,
     "metadata": {},
     "output_type": "execute_result"
    }
   ],
   "source": [
    "maks(20,10)"
   ]
  },
  {
   "cell_type": "code",
   "execution_count": 16,
   "id": "f21aa067-ec69-4d37-98ed-9e9c9bb77e3d",
   "metadata": {},
   "outputs": [
    {
     "data": {
      "text/plain": [
       "200"
      ]
     },
     "execution_count": 16,
     "metadata": {},
     "output_type": "execute_result"
    }
   ],
   "source": [
    "maks(100,200)"
   ]
  },
  {
   "cell_type": "code",
   "execution_count": null,
   "id": "04e31dcc-b01a-4513-badf-b03f97a892e5",
   "metadata": {},
   "outputs": [],
   "source": []
  },
  {
   "cell_type": "code",
   "execution_count": null,
   "id": "39564849-a70b-4aa9-9fe6-49ee2aa7676b",
   "metadata": {},
   "outputs": [],
   "source": []
  },
  {
   "cell_type": "code",
   "execution_count": 17,
   "id": "5dcf88e3-f199-4732-a748-8582c1368073",
   "metadata": {},
   "outputs": [],
   "source": [
    "# Algorithm 4.4"
   ]
  },
  {
   "cell_type": "code",
   "execution_count": 18,
   "id": "87103a6d-f226-4a5c-9095-ca011510ac45",
   "metadata": {},
   "outputs": [],
   "source": [
    "def maks(a,b):\n",
    "            if a>b:\n",
    "                        return a\n",
    "            else:\n",
    "                        return b"
   ]
  },
  {
   "cell_type": "code",
   "execution_count": 19,
   "id": "dfc29ad1-81f9-48a2-afc3-eda2a09fa2ad",
   "metadata": {},
   "outputs": [
    {
     "data": {
      "text/plain": [
       "20"
      ]
     },
     "execution_count": 19,
     "metadata": {},
     "output_type": "execute_result"
    }
   ],
   "source": [
    "maks(20,10)"
   ]
  },
  {
   "cell_type": "code",
   "execution_count": 20,
   "id": "7ff434c9-ddc7-46c3-9116-6cf43067c28f",
   "metadata": {},
   "outputs": [
    {
     "data": {
      "text/plain": [
       "200"
      ]
     },
     "execution_count": 20,
     "metadata": {},
     "output_type": "execute_result"
    }
   ],
   "source": [
    "maks(100,200)"
   ]
  },
  {
   "cell_type": "code",
   "execution_count": null,
   "id": "11097b37-245b-4b22-9eaf-df754bc4f396",
   "metadata": {},
   "outputs": [],
   "source": []
  },
  {
   "cell_type": "code",
   "execution_count": null,
   "id": "2c7b0f37-db66-4156-a3f8-ba3732259a9c",
   "metadata": {},
   "outputs": [],
   "source": []
  },
  {
   "cell_type": "code",
   "execution_count": 21,
   "id": "918bcf22-941f-46a0-8f08-d86635453f45",
   "metadata": {},
   "outputs": [],
   "source": [
    "# Algorithm 4.5"
   ]
  },
  {
   "cell_type": "code",
   "execution_count": 22,
   "id": "23e71a65-e364-4be6-9529-92a5de8ffc66",
   "metadata": {},
   "outputs": [],
   "source": [
    "def tulis(s, gantibaris=True):\n",
    "            if not gantibaris:\n",
    "                    print(s,end='')\n",
    "            else:\n",
    "                    print(s)"
   ]
  },
  {
   "cell_type": "code",
   "execution_count": 24,
   "id": "4527427c-dc23-4916-9716-fc2084d36878",
   "metadata": {},
   "outputs": [
    {
     "name": "stdout",
     "output_type": "stream",
     "text": [
      "Python\n"
     ]
    }
   ],
   "source": [
    "tulis('Python')"
   ]
  },
  {
   "cell_type": "code",
   "execution_count": 26,
   "id": "1cbb36ba-8625-43e6-b03d-4639d60eb946",
   "metadata": {},
   "outputs": [
    {
     "name": "stdout",
     "output_type": "stream",
     "text": [
      "Python dan Ruby\n"
     ]
    }
   ],
   "source": [
    "tulis('Python',False);tulis(' dan Ruby')"
   ]
  },
  {
   "cell_type": "code",
   "execution_count": 27,
   "id": "a1a094e7-5883-4873-a142-aef97b7ad942",
   "metadata": {},
   "outputs": [
    {
     "name": "stdout",
     "output_type": "stream",
     "text": [
      "Python\n",
      "Ruby\n"
     ]
    }
   ],
   "source": [
    "tulis('Python');tulis('Ruby')"
   ]
  },
  {
   "cell_type": "code",
   "execution_count": null,
   "id": "bf206621-234d-4e4b-972a-c89477a36a23",
   "metadata": {},
   "outputs": [],
   "source": []
  },
  {
   "cell_type": "code",
   "execution_count": null,
   "id": "a0548ac0-8f94-4ad0-b5ac-f030714e50e5",
   "metadata": {},
   "outputs": [],
   "source": []
  },
  {
   "cell_type": "code",
   "execution_count": 29,
   "id": "cd3c8529-9f6e-4daf-9f42-69ad68f55c2a",
   "metadata": {},
   "outputs": [],
   "source": [
    "# Percobaan Conditional if"
   ]
  },
  {
   "cell_type": "code",
   "execution_count": 30,
   "id": "6fdf59f0-b3c9-45f7-9cae-8adc9e3973fa",
   "metadata": {},
   "outputs": [
    {
     "name": "stdin",
     "output_type": "stream",
     "text": [
      "Masukkan nilai Anda:  80\n"
     ]
    },
    {
     "name": "stdout",
     "output_type": "stream",
     "text": [
      "Anda lulus ujian! SELAMAT!\n"
     ]
    }
   ],
   "source": [
    "nilai = input(\"Masukkan nilai Anda: \")\n",
    "if int(nilai) >= 70:\n",
    "    print(\"Anda lulus ujian! SELAMAT!\")"
   ]
  },
  {
   "cell_type": "code",
   "execution_count": null,
   "id": "ff3445b5-54bf-4d0b-82da-765e598431c1",
   "metadata": {},
   "outputs": [],
   "source": []
  },
  {
   "cell_type": "code",
   "execution_count": 31,
   "id": "c9c8bc32-606f-473d-bacb-f7b4039d79bb",
   "metadata": {},
   "outputs": [],
   "source": [
    "# Percobaan Conditional if-else"
   ]
  },
  {
   "cell_type": "code",
   "execution_count": 33,
   "id": "1f3635df-69fa-49ae-97dc-1ba086b1f564",
   "metadata": {},
   "outputs": [
    {
     "name": "stdin",
     "output_type": "stream",
     "text": [
      "Masukkan nilai Anda:  60\n"
     ]
    },
    {
     "name": "stdout",
     "output_type": "stream",
     "text": [
      "Anda belum lulus ujian!\n"
     ]
    }
   ],
   "source": [
    "nilai = input(\"Masukkan nilai Anda: \")\n",
    "if int(nilai) >= 70:\n",
    "    print(\"Anda lulus ujian! SELAMAT!\")\n",
    "else:\n",
    "    print(\"Anda belum lulus ujian!\")"
   ]
  },
  {
   "cell_type": "code",
   "execution_count": null,
   "id": "08e06edc-6ef2-47ae-b5c2-49a46b965bfb",
   "metadata": {},
   "outputs": [],
   "source": []
  },
  {
   "cell_type": "code",
   "execution_count": 34,
   "id": "15f26200-498b-43c3-bdfd-8cd1beeb6d52",
   "metadata": {},
   "outputs": [],
   "source": [
    "# Percobaan Conditional if-elif-else"
   ]
  },
  {
   "cell_type": "code",
   "execution_count": 37,
   "id": "6193a9de-fd76-4e83-9c77-6dfcc953c50b",
   "metadata": {},
   "outputs": [
    {
     "name": "stdin",
     "output_type": "stream",
     "text": [
      "Masukkan nilai Anda:  100\n"
     ]
    },
    {
     "name": "stdout",
     "output_type": "stream",
     "text": [
      "Anda lulus ujian! SELAMAT!\n"
     ]
    }
   ],
   "source": [
    "nilai = input(\"Masukkan nilai Anda: \")\n",
    "if int(nilai) < 0 or int(nilai) > 100:\n",
    "    print(\"Nilai Anda TIDAK valid\")\n",
    "elif int(nilai) >= 70:\n",
    "    print(\"Anda lulus ujian! SELAMAT!\")\n",
    "else:\n",
    "    print(\"Anda belum lulus ujian!\")"
   ]
  },
  {
   "cell_type": "code",
   "execution_count": null,
   "id": "7d4c433f-dcca-4525-8f89-3f3e0e520014",
   "metadata": {},
   "outputs": [],
   "source": []
  }
 ],
 "metadata": {
  "kernelspec": {
   "display_name": "Python 3 (ipykernel)",
   "language": "python",
   "name": "python3"
  },
  "language_info": {
   "codemirror_mode": {
    "name": "ipython",
    "version": 3
   },
   "file_extension": ".py",
   "mimetype": "text/x-python",
   "name": "python",
   "nbconvert_exporter": "python",
   "pygments_lexer": "ipython3",
   "version": "3.9.7"
  }
 },
 "nbformat": 4,
 "nbformat_minor": 5
}
