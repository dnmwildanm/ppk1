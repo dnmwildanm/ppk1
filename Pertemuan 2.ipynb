{
 "cells": [
  {
   "cell_type": "code",
   "execution_count": 1,
   "id": "ecf9da90-f334-49e0-a132-2a12d6c5673a",
   "metadata": {},
   "outputs": [],
   "source": [
    "# Algorithm 2.1 str()"
   ]
  },
  {
   "cell_type": "code",
   "execution_count": 2,
   "id": "e2690fb1-cdbd-49ed-9a8e-c61cd27c815f",
   "metadata": {},
   "outputs": [],
   "source": [
    "a=12345"
   ]
  },
  {
   "cell_type": "code",
   "execution_count": 3,
   "id": "6668e53b-9487-43b7-8216-79e570bd0030",
   "metadata": {},
   "outputs": [
    {
     "data": {
      "text/plain": [
       "int"
      ]
     },
     "execution_count": 3,
     "metadata": {},
     "output_type": "execute_result"
    }
   ],
   "source": [
    "type(a)"
   ]
  },
  {
   "cell_type": "code",
   "execution_count": 6,
   "id": "051f5883-7593-42d1-ac2d-bc79155d179e",
   "metadata": {},
   "outputs": [
    {
     "data": {
      "text/plain": [
       "b'12345'"
      ]
     },
     "execution_count": 6,
     "metadata": {},
     "output_type": "execute_result"
    }
   ],
   "source": [
    "b=str(a)\n",
    "b'12345'"
   ]
  },
  {
   "cell_type": "code",
   "execution_count": 7,
   "id": "229239f4-bc14-42b3-886f-dbd5922bccfe",
   "metadata": {},
   "outputs": [
    {
     "data": {
      "text/plain": [
       "str"
      ]
     },
     "execution_count": 7,
     "metadata": {},
     "output_type": "execute_result"
    }
   ],
   "source": [
    "type(b)"
   ]
  },
  {
   "cell_type": "code",
   "execution_count": null,
   "id": "e7cd2a7d-f7ad-43a5-bd4d-b95a26146647",
   "metadata": {},
   "outputs": [],
   "source": []
  },
  {
   "cell_type": "code",
   "execution_count": null,
   "id": "fe1e6b9b-c578-4116-b887-64a70abc318a",
   "metadata": {},
   "outputs": [],
   "source": []
  },
  {
   "cell_type": "code",
   "execution_count": 8,
   "id": "42bc74ea-838b-4769-87de-d45385773e4b",
   "metadata": {},
   "outputs": [],
   "source": [
    "# Algorithm 2.2 int()"
   ]
  },
  {
   "cell_type": "code",
   "execution_count": 9,
   "id": "8f16f80b-a352-4c38-8f69-5b487fe06ce7",
   "metadata": {},
   "outputs": [],
   "source": [
    "a='12345'"
   ]
  },
  {
   "cell_type": "code",
   "execution_count": 10,
   "id": "494fe5e5-598c-48cb-9907-2ab2e61b7d9f",
   "metadata": {},
   "outputs": [
    {
     "data": {
      "text/plain": [
       "str"
      ]
     },
     "execution_count": 10,
     "metadata": {},
     "output_type": "execute_result"
    }
   ],
   "source": [
    "type(a)"
   ]
  },
  {
   "cell_type": "code",
   "execution_count": 11,
   "id": "824342ca-96a9-4501-acaa-1502a685a9ca",
   "metadata": {},
   "outputs": [
    {
     "data": {
      "text/plain": [
       "b'12345'"
      ]
     },
     "execution_count": 11,
     "metadata": {},
     "output_type": "execute_result"
    }
   ],
   "source": [
    "b=int(a)\n",
    "b'12345'"
   ]
  },
  {
   "cell_type": "code",
   "execution_count": 12,
   "id": "9639db0e-c27a-425f-a5d7-0f7f3e07d8d1",
   "metadata": {},
   "outputs": [
    {
     "data": {
      "text/plain": [
       "int"
      ]
     },
     "execution_count": 12,
     "metadata": {},
     "output_type": "execute_result"
    }
   ],
   "source": [
    "type(b)"
   ]
  },
  {
   "cell_type": "code",
   "execution_count": null,
   "id": "654ab6c1-0005-47a8-9643-8e7a10e88caf",
   "metadata": {},
   "outputs": [],
   "source": []
  },
  {
   "cell_type": "code",
   "execution_count": null,
   "id": "0aee6627-a235-4942-9c48-239a5efd5ff0",
   "metadata": {},
   "outputs": [],
   "source": []
  },
  {
   "cell_type": "code",
   "execution_count": 13,
   "id": "5f9e0026-3613-4b1f-8290-2a71f01e0f4d",
   "metadata": {},
   "outputs": [],
   "source": [
    "# Algorithm 2.3"
   ]
  },
  {
   "cell_type": "code",
   "execution_count": 14,
   "id": "7a377fd6-fec5-442e-97e0-aef3848e25bd",
   "metadata": {},
   "outputs": [
    {
     "data": {
      "text/plain": [
       "1"
      ]
     },
     "execution_count": 14,
     "metadata": {},
     "output_type": "execute_result"
    }
   ],
   "source": [
    "int(True)"
   ]
  },
  {
   "cell_type": "code",
   "execution_count": 15,
   "id": "5f3f9cc8-2a7f-40e0-94c7-17857f49f5f3",
   "metadata": {},
   "outputs": [
    {
     "data": {
      "text/plain": [
       "0"
      ]
     },
     "execution_count": 15,
     "metadata": {},
     "output_type": "execute_result"
    }
   ],
   "source": [
    "int(False)"
   ]
  },
  {
   "cell_type": "code",
   "execution_count": 16,
   "id": "9d0ebdde-9b3e-4d87-9066-2c991b0ca816",
   "metadata": {},
   "outputs": [],
   "source": [
    "a=True"
   ]
  },
  {
   "cell_type": "code",
   "execution_count": 17,
   "id": "39004b5f-b5da-4ebb-b9f7-d5d5b45b3f3c",
   "metadata": {},
   "outputs": [
    {
     "data": {
      "text/plain": [
       "bool"
      ]
     },
     "execution_count": 17,
     "metadata": {},
     "output_type": "execute_result"
    }
   ],
   "source": [
    "type(a)"
   ]
  },
  {
   "cell_type": "code",
   "execution_count": 18,
   "id": "e608d1d6-73e3-454b-a283-27d6ac102e75",
   "metadata": {},
   "outputs": [
    {
     "data": {
      "text/plain": [
       "1"
      ]
     },
     "execution_count": 18,
     "metadata": {},
     "output_type": "execute_result"
    }
   ],
   "source": [
    "int(a)"
   ]
  },
  {
   "cell_type": "code",
   "execution_count": null,
   "id": "5eeffc49-7ca1-432b-bfc4-1d5234cd7233",
   "metadata": {},
   "outputs": [],
   "source": []
  },
  {
   "cell_type": "code",
   "execution_count": null,
   "id": "b2ab41a3-615f-4940-88cc-264062da53b6",
   "metadata": {},
   "outputs": [],
   "source": []
  },
  {
   "cell_type": "code",
   "execution_count": 19,
   "id": "20e1f464-f815-410f-af03-e1bbc9d65aa8",
   "metadata": {},
   "outputs": [],
   "source": [
    "# Algorithm 2.4"
   ]
  },
  {
   "cell_type": "code",
   "execution_count": 20,
   "id": "76e7e9b9-500b-4ce5-846d-04e32660bf3d",
   "metadata": {},
   "outputs": [],
   "source": [
    "a=123.456"
   ]
  },
  {
   "cell_type": "code",
   "execution_count": 21,
   "id": "d396af17-3554-4143-96c9-6785ced662b2",
   "metadata": {},
   "outputs": [
    {
     "data": {
      "text/plain": [
       "123.456"
      ]
     },
     "execution_count": 21,
     "metadata": {},
     "output_type": "execute_result"
    }
   ],
   "source": [
    "a"
   ]
  },
  {
   "cell_type": "code",
   "execution_count": 22,
   "id": "f11a47ce-b3e2-4d90-a690-30a8ae0e04c7",
   "metadata": {},
   "outputs": [
    {
     "data": {
      "text/plain": [
       "float"
      ]
     },
     "execution_count": 22,
     "metadata": {},
     "output_type": "execute_result"
    }
   ],
   "source": [
    "type(a)"
   ]
  },
  {
   "cell_type": "code",
   "execution_count": 23,
   "id": "f4579711-aaae-42b6-9edb-7a335651088b",
   "metadata": {},
   "outputs": [
    {
     "data": {
      "text/plain": [
       "246.912"
      ]
     },
     "execution_count": 23,
     "metadata": {},
     "output_type": "execute_result"
    }
   ],
   "source": [
    "a*2"
   ]
  },
  {
   "cell_type": "code",
   "execution_count": null,
   "id": "98f90cdd-caf8-44a7-a69d-3c16f5783b63",
   "metadata": {},
   "outputs": [],
   "source": []
  },
  {
   "cell_type": "code",
   "execution_count": null,
   "id": "08c77418-e37a-466d-a859-45a798c79993",
   "metadata": {},
   "outputs": [],
   "source": []
  },
  {
   "cell_type": "code",
   "execution_count": 24,
   "id": "8c3a3ff5-f522-4ef4-9e78-82864b0aa560",
   "metadata": {},
   "outputs": [],
   "source": [
    "# Algorithm 2.5"
   ]
  },
  {
   "cell_type": "code",
   "execution_count": 25,
   "id": "46391c93-9d48-4d8a-902c-e69dd34577c9",
   "metadata": {},
   "outputs": [],
   "source": [
    "a=8.9e-4"
   ]
  },
  {
   "cell_type": "code",
   "execution_count": 26,
   "id": "097ac9d7-c204-4d1d-a013-350653213da9",
   "metadata": {},
   "outputs": [
    {
     "data": {
      "text/plain": [
       "0.00089"
      ]
     },
     "execution_count": 26,
     "metadata": {},
     "output_type": "execute_result"
    }
   ],
   "source": [
    "a"
   ]
  },
  {
   "cell_type": "code",
   "execution_count": null,
   "id": "906f0866-a6eb-4ebb-918c-e590f9132b20",
   "metadata": {},
   "outputs": [],
   "source": []
  },
  {
   "cell_type": "code",
   "execution_count": null,
   "id": "ea01991d-5aab-451a-99ff-471126158158",
   "metadata": {},
   "outputs": [],
   "source": []
  },
  {
   "cell_type": "code",
   "execution_count": 27,
   "id": "8f069bbd-6828-4ab8-af70-b60719db3948",
   "metadata": {},
   "outputs": [],
   "source": [
    "# Algorithm 2.6"
   ]
  },
  {
   "cell_type": "code",
   "execution_count": 28,
   "id": "ed1bfb27-9cfb-4156-bedf-9de1bea524f1",
   "metadata": {},
   "outputs": [],
   "source": [
    "a=123.456"
   ]
  },
  {
   "cell_type": "code",
   "execution_count": 29,
   "id": "ad242bc5-c2d9-4a9f-8cae-e5559758ec7e",
   "metadata": {},
   "outputs": [
    {
     "data": {
      "text/plain": [
       "float"
      ]
     },
     "execution_count": 29,
     "metadata": {},
     "output_type": "execute_result"
    }
   ],
   "source": [
    "type(a)"
   ]
  },
  {
   "cell_type": "code",
   "execution_count": 30,
   "id": "467d8309-75ae-4fd9-84d4-e437e97078fb",
   "metadata": {},
   "outputs": [],
   "source": [
    "b=str(a)"
   ]
  },
  {
   "cell_type": "code",
   "execution_count": 31,
   "id": "7af4ca3d-b90e-435f-abad-0faf88c5f57c",
   "metadata": {},
   "outputs": [
    {
     "data": {
      "text/plain": [
       "'123.456'"
      ]
     },
     "execution_count": 31,
     "metadata": {},
     "output_type": "execute_result"
    }
   ],
   "source": [
    "b"
   ]
  },
  {
   "cell_type": "code",
   "execution_count": 32,
   "id": "571af2a6-31d5-4818-b2cc-545b3c8107c1",
   "metadata": {},
   "outputs": [
    {
     "data": {
      "text/plain": [
       "str"
      ]
     },
     "execution_count": 32,
     "metadata": {},
     "output_type": "execute_result"
    }
   ],
   "source": [
    "type(b)"
   ]
  },
  {
   "cell_type": "code",
   "execution_count": 33,
   "id": "909ff2c9-5cd7-4c87-aff5-68fe87848a1a",
   "metadata": {},
   "outputs": [],
   "source": [
    "c=float(b)"
   ]
  },
  {
   "cell_type": "code",
   "execution_count": 34,
   "id": "1a06864a-4e68-43ae-beff-b055cff9b3fc",
   "metadata": {},
   "outputs": [
    {
     "data": {
      "text/plain": [
       "123.456"
      ]
     },
     "execution_count": 34,
     "metadata": {},
     "output_type": "execute_result"
    }
   ],
   "source": [
    "c"
   ]
  },
  {
   "cell_type": "code",
   "execution_count": 35,
   "id": "1a7c6bb5-dc4e-4326-a79c-7fd40f8d876a",
   "metadata": {},
   "outputs": [
    {
     "data": {
      "text/plain": [
       "float"
      ]
     },
     "execution_count": 35,
     "metadata": {},
     "output_type": "execute_result"
    }
   ],
   "source": [
    "type(c)"
   ]
  },
  {
   "cell_type": "code",
   "execution_count": null,
   "id": "e3e2ef43-1124-4252-81dc-cff36fa5f932",
   "metadata": {},
   "outputs": [],
   "source": []
  },
  {
   "cell_type": "code",
   "execution_count": null,
   "id": "dbd17fa5-bbec-4c48-b939-7be65b6763f4",
   "metadata": {},
   "outputs": [],
   "source": []
  },
  {
   "cell_type": "code",
   "execution_count": 36,
   "id": "7c85641d-e97e-4fc5-988d-82e29a3587ce",
   "metadata": {},
   "outputs": [],
   "source": [
    "# Algorithm 2.7"
   ]
  },
  {
   "cell_type": "code",
   "execution_count": 37,
   "id": "dd267e77-9e47-49e5-8d76-405e8d27a74c",
   "metadata": {},
   "outputs": [],
   "source": [
    "a=-9+17j"
   ]
  },
  {
   "cell_type": "code",
   "execution_count": 38,
   "id": "b639b9e8-a735-429f-93c0-c73bb4d34577",
   "metadata": {},
   "outputs": [
    {
     "data": {
      "text/plain": [
       "(-9+17j)"
      ]
     },
     "execution_count": 38,
     "metadata": {},
     "output_type": "execute_result"
    }
   ],
   "source": [
    "a"
   ]
  },
  {
   "cell_type": "code",
   "execution_count": 39,
   "id": "c854bee0-4059-48ec-87fe-123bcb7722d0",
   "metadata": {},
   "outputs": [
    {
     "data": {
      "text/plain": [
       "complex"
      ]
     },
     "execution_count": 39,
     "metadata": {},
     "output_type": "execute_result"
    }
   ],
   "source": [
    "type(a)"
   ]
  },
  {
   "cell_type": "code",
   "execution_count": 40,
   "id": "04f8d606-aaac-42f8-ba0f-f678db098d56",
   "metadata": {},
   "outputs": [
    {
     "data": {
      "text/plain": [
       "-9.0"
      ]
     },
     "execution_count": 40,
     "metadata": {},
     "output_type": "execute_result"
    }
   ],
   "source": [
    "a.real"
   ]
  },
  {
   "cell_type": "code",
   "execution_count": 41,
   "id": "13f859aa-3dea-46dd-a662-fe0af1eed139",
   "metadata": {},
   "outputs": [
    {
     "data": {
      "text/plain": [
       "17.0"
      ]
     },
     "execution_count": 41,
     "metadata": {},
     "output_type": "execute_result"
    }
   ],
   "source": [
    "a.imag"
   ]
  },
  {
   "cell_type": "code",
   "execution_count": null,
   "id": "31d27f5e-21da-4cba-84ff-5a4376de0248",
   "metadata": {},
   "outputs": [],
   "source": []
  },
  {
   "cell_type": "code",
   "execution_count": null,
   "id": "d8ae71de-0d01-4f7e-8b7a-4686d845384d",
   "metadata": {},
   "outputs": [],
   "source": []
  },
  {
   "cell_type": "code",
   "execution_count": 42,
   "id": "5659ff80-50a5-4644-b158-137b14cf7ed5",
   "metadata": {},
   "outputs": [],
   "source": [
    "# Algorithm 2.8"
   ]
  },
  {
   "cell_type": "code",
   "execution_count": 43,
   "id": "fbc346bd-f67f-4325-a691-fe54a2222add",
   "metadata": {},
   "outputs": [],
   "source": [
    "s1='PyQt'"
   ]
  },
  {
   "cell_type": "code",
   "execution_count": 44,
   "id": "8a4ef217-7aea-4dc2-a128-c78c01e3454b",
   "metadata": {},
   "outputs": [
    {
     "data": {
      "text/plain": [
       "'PyQt'"
      ]
     },
     "execution_count": 44,
     "metadata": {},
     "output_type": "execute_result"
    }
   ],
   "source": [
    "s1"
   ]
  },
  {
   "cell_type": "code",
   "execution_count": 45,
   "id": "2fd4cb26-9b11-4704-a28e-67d857a3dd0e",
   "metadata": {},
   "outputs": [],
   "source": [
    "s2=\"Python\""
   ]
  },
  {
   "cell_type": "code",
   "execution_count": 46,
   "id": "a8a03965-e414-4746-a7ec-64810737fb80",
   "metadata": {},
   "outputs": [
    {
     "data": {
      "text/plain": [
       "'Python'"
      ]
     },
     "execution_count": 46,
     "metadata": {},
     "output_type": "execute_result"
    }
   ],
   "source": [
    "s2"
   ]
  },
  {
   "cell_type": "code",
   "execution_count": 47,
   "id": "12ea879e-6fc0-4e87-94d1-0f382ab0ac5c",
   "metadata": {},
   "outputs": [],
   "source": [
    "s3=''' Pemrograman GUI dengan Python dan PyQt '''"
   ]
  },
  {
   "cell_type": "code",
   "execution_count": 48,
   "id": "c1984bf5-bc6a-4ff2-a2f2-07c45e8796b0",
   "metadata": {},
   "outputs": [
    {
     "data": {
      "text/plain": [
       "' Pemrograman GUI dengan Python dan PyQt '"
      ]
     },
     "execution_count": 48,
     "metadata": {},
     "output_type": "execute_result"
    }
   ],
   "source": [
    "s3"
   ]
  },
  {
   "cell_type": "code",
   "execution_count": 49,
   "id": "c08db6db-a3d6-4d17-ab52-61f58d26992b",
   "metadata": {},
   "outputs": [],
   "source": [
    "s4=\"\"\" Pemrograman GUI dengan Python dan PyQt \"\"\""
   ]
  },
  {
   "cell_type": "code",
   "execution_count": 50,
   "id": "8a64915b-7410-4de9-8d9a-4a30363c0402",
   "metadata": {},
   "outputs": [
    {
     "data": {
      "text/plain": [
       "' Pemrograman GUI dengan Python dan PyQt '"
      ]
     },
     "execution_count": 50,
     "metadata": {},
     "output_type": "execute_result"
    }
   ],
   "source": [
    "s4"
   ]
  },
  {
   "cell_type": "code",
   "execution_count": 51,
   "id": "5bde3634-b79a-4366-ad44-ff5f56a38dec",
   "metadata": {},
   "outputs": [],
   "source": [
    "b='python'"
   ]
  },
  {
   "cell_type": "code",
   "execution_count": 52,
   "id": "10ca7e36-811e-43d0-b0c3-992fc3ab7c0b",
   "metadata": {},
   "outputs": [
    {
     "data": {
      "text/plain": [
       "'python'"
      ]
     },
     "execution_count": 52,
     "metadata": {},
     "output_type": "execute_result"
    }
   ],
   "source": [
    "b"
   ]
  },
  {
   "cell_type": "code",
   "execution_count": 53,
   "id": "8c67b1c6-e106-41aa-b312-d82c00ec6bf5",
   "metadata": {},
   "outputs": [],
   "source": [
    "b=b.capitalize()"
   ]
  },
  {
   "cell_type": "code",
   "execution_count": 54,
   "id": "7fd58d74-a915-489e-adba-141d266d3b0e",
   "metadata": {},
   "outputs": [
    {
     "data": {
      "text/plain": [
       "'Python'"
      ]
     },
     "execution_count": 54,
     "metadata": {},
     "output_type": "execute_result"
    }
   ],
   "source": [
    "b"
   ]
  },
  {
   "cell_type": "code",
   "execution_count": 55,
   "id": "7fe4a25e-11fd-482f-b8ea-7ed6aedc9187",
   "metadata": {},
   "outputs": [],
   "source": [
    "b=b.upper()"
   ]
  },
  {
   "cell_type": "code",
   "execution_count": 56,
   "id": "c32c7c4a-320e-4e35-bce7-9843a6197ec8",
   "metadata": {},
   "outputs": [
    {
     "data": {
      "text/plain": [
       "'PYTHON'"
      ]
     },
     "execution_count": 56,
     "metadata": {},
     "output_type": "execute_result"
    }
   ],
   "source": [
    "b"
   ]
  },
  {
   "cell_type": "code",
   "execution_count": 57,
   "id": "759d2a2d-aa94-445a-bef7-0561c8b75d1f",
   "metadata": {},
   "outputs": [],
   "source": [
    "b=b.lower()"
   ]
  },
  {
   "cell_type": "code",
   "execution_count": 58,
   "id": "3018d35b-aa79-425f-917d-5c29626f7d03",
   "metadata": {},
   "outputs": [
    {
     "data": {
      "text/plain": [
       "'python'"
      ]
     },
     "execution_count": 58,
     "metadata": {},
     "output_type": "execute_result"
    }
   ],
   "source": [
    "b"
   ]
  },
  {
   "cell_type": "code",
   "execution_count": 59,
   "id": "9ea9ab77-9c69-4f84-9d7e-2bafa539f801",
   "metadata": {},
   "outputs": [
    {
     "data": {
      "text/plain": [
       "False"
      ]
     },
     "execution_count": 59,
     "metadata": {},
     "output_type": "execute_result"
    }
   ],
   "source": [
    "b.isupper()"
   ]
  },
  {
   "cell_type": "code",
   "execution_count": 60,
   "id": "4b978e27-1492-412f-b040-a9422808d85f",
   "metadata": {},
   "outputs": [
    {
     "data": {
      "text/plain": [
       "True"
      ]
     },
     "execution_count": 60,
     "metadata": {},
     "output_type": "execute_result"
    }
   ],
   "source": [
    "b.islower()"
   ]
  },
  {
   "cell_type": "code",
   "execution_count": 61,
   "id": "4951c298-b3bb-491d-85b5-1828b6f2c92a",
   "metadata": {},
   "outputs": [],
   "source": [
    "s=' '.join(['saya','makan','ayam'])"
   ]
  },
  {
   "cell_type": "code",
   "execution_count": 62,
   "id": "efe0dd06-2466-444d-92d3-ad2cfb2b3915",
   "metadata": {},
   "outputs": [
    {
     "data": {
      "text/plain": [
       "'saya makan ayam'"
      ]
     },
     "execution_count": 62,
     "metadata": {},
     "output_type": "execute_result"
    }
   ],
   "source": [
    "s"
   ]
  },
  {
   "cell_type": "code",
   "execution_count": 65,
   "id": "32c90f56-a7df-45ff-a986-19132e04b0c6",
   "metadata": {},
   "outputs": [],
   "source": [
    "nim='16610021'"
   ]
  },
  {
   "cell_type": "code",
   "execution_count": 66,
   "id": "f7a934f0-fd81-4931-842d-63ce613eb5f1",
   "metadata": {},
   "outputs": [
    {
     "data": {
      "text/plain": [
       "True"
      ]
     },
     "execution_count": 66,
     "metadata": {},
     "output_type": "execute_result"
    }
   ],
   "source": [
    "nim.isnumeric()"
   ]
  },
  {
   "cell_type": "code",
   "execution_count": 67,
   "id": "56d83969-9466-48f0-9e83-83587ebba83e",
   "metadata": {},
   "outputs": [],
   "source": [
    "nim='16610o21'"
   ]
  },
  {
   "cell_type": "code",
   "execution_count": 68,
   "id": "9fe43226-448c-4e8a-bb75-d18eea3d3d4e",
   "metadata": {},
   "outputs": [
    {
     "data": {
      "text/plain": [
       "False"
      ]
     },
     "execution_count": 68,
     "metadata": {},
     "output_type": "execute_result"
    }
   ],
   "source": [
    "nim.isnumeric()"
   ]
  },
  {
   "cell_type": "code",
   "execution_count": null,
   "id": "92d9997e-2dfe-4a85-bb7f-fdc029026928",
   "metadata": {},
   "outputs": [],
   "source": []
  }
 ],
 "metadata": {
  "kernelspec": {
   "display_name": "Python 3 (ipykernel)",
   "language": "python",
   "name": "python3"
  },
  "language_info": {
   "codemirror_mode": {
    "name": "ipython",
    "version": 3
   },
   "file_extension": ".py",
   "mimetype": "text/x-python",
   "name": "python",
   "nbconvert_exporter": "python",
   "pygments_lexer": "ipython3",
   "version": "3.9.7"
  }
 },
 "nbformat": 4,
 "nbformat_minor": 5
}
