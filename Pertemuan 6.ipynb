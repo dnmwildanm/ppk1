{
 "cells": [
  {
   "cell_type": "code",
   "execution_count": 24,
   "metadata": {
    "scrolled": true
   },
   "outputs": [
    {
     "name": "stdout",
     "output_type": "stream",
     "text": [
      "Dwi\n",
      "Nur\n",
      "Muhammad\n",
      "Wildan\n",
      "Mashudi\n",
      "200601110095\n",
      "200601110095\n",
      "Dwi\n",
      "\n"
     ]
    }
   ],
   "source": [
    "#Membuka file\n",
    "a=open(\"nama.txt\",\"r\")\n",
    "\n",
    "#Membaca isi file\n",
    "b=a.read()\n",
    "print(b)\n",
    "\n",
    "#Mengambil sebagian\n",
    "c=b[0:4]\n",
    "print(c)\n",
    "\n",
    "#Menutup file\n",
    "a.close()"
   ]
  },
  {
   "cell_type": "code",
   "execution_count": 21,
   "metadata": {},
   "outputs": [
    {
     "name": "stdout",
     "output_type": "stream",
     "text": [
      "Dwi\n",
      "\n",
      "Nur\n",
      "\n",
      "Muhammad\n",
      "\n",
      "Wildan\n",
      "\n",
      "Mashudi\n",
      "\n"
     ]
    }
   ],
   "source": [
    "#Membaca per baris\n",
    "a=open(\"nama.txt\",\"r\")\n",
    "b=a.readline()\n",
    "print(b)\n",
    "c=a.readline()\n",
    "print(c)\n",
    "d=a.readline()\n",
    "print(d)\n",
    "e=a.readline()\n",
    "print(e)\n",
    "f=a.readline()\n",
    "print(f)"
   ]
  },
  {
   "cell_type": "code",
   "execution_count": 25,
   "metadata": {},
   "outputs": [
    {
     "name": "stdout",
     "output_type": "stream",
     "text": [
      "Dwi\n",
      "Nur\n",
      "Muhammad\n",
      "Wildan\n",
      "Mashudi\n",
      "200601110095\n",
      "200601110095 200601110095\n"
     ]
    }
   ],
   "source": [
    "#Menulis text pada baris terakhir\n",
    "g=open(\"nama.txt\",\"a\")\n",
    "g.write(\" 200601110095\")\n",
    "g.close()\n",
    "\n",
    "g=open(\"nama.txt\",\"r\")\n",
    "print(g.read())"
   ]
  },
  {
   "cell_type": "code",
   "execution_count": 26,
   "metadata": {},
   "outputs": [
    {
     "name": "stdout",
     "output_type": "stream",
     "text": [
      "Dwi\n",
      "Nur\n",
      "Muhammad\n",
      "Wildan\n",
      "Mashudi\n",
      "200601110095\n",
      "200601110095 200601110095\n",
      "200601110095\n"
     ]
    }
   ],
   "source": [
    "g=open(\"nama.txt\",\"a\")\n",
    "g.write(\"\\n200601110095\")\n",
    "g.close()\n",
    "\n",
    "g=open(\"nama.txt\",\"r\")\n",
    "print(g.read())"
   ]
  }
 ],
 "metadata": {
  "kernelspec": {
   "display_name": "Python 3",
   "language": "python",
   "name": "python3"
  },
  "language_info": {
   "codemirror_mode": {
    "name": "ipython",
    "version": 3
   },
   "file_extension": ".py",
   "mimetype": "text/x-python",
   "name": "python",
   "nbconvert_exporter": "python",
   "pygments_lexer": "ipython3",
   "version": "3.7.3"
  }
 },
 "nbformat": 4,
 "nbformat_minor": 2
}
